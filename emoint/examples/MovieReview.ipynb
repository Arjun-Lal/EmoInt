{
 "cells": [
  {
   "cell_type": "markdown",
   "metadata": {},
   "source": [
    "# Cornell Movie Review Data - Sentiment Analysis"
   ]
  },
  {
   "cell_type": "code",
   "execution_count": 1,
   "metadata": {
    "collapsed": true
   },
   "outputs": [],
   "source": [
    "import os\n",
    "import sys\n",
    "import pandas as pd\n",
    "import numpy as np\n",
    "from nltk.tokenize import TweetTokenizer\n",
    "from sklearn.ensemble import BaggingClassifier, RandomForestClassifier, \\\n",
    "    ExtraTreesClassifier, GradientBoostingClassifier\n",
    "from sklearn.cross_validation import train_test_split\n",
    "from sklearn.cross_validation import KFold, StratifiedKFold\n",
    "from sklearn.linear_model import LogisticRegression, RidgeClassifier\n",
    "from scipy.stats import spearmanr\n",
    "from scipy.stats import pearsonr\n",
    "\n",
    "import matplotlib.pyplot as plt\n",
    "%matplotlib  inline\n",
    "\n",
    "# access local modules\n",
    "module_path = os.path.abspath(os.path.join('../..'))\n",
    "if module_path not in sys.path:\n",
    "    sys.path.append(module_path)\n",
    "\n",
    "from emoint.featurizers.emoint_featurizer import EmoIntFeaturizer"
   ]
  },
  {
   "cell_type": "code",
   "execution_count": 2,
   "metadata": {
    "collapsed": true
   },
   "outputs": [],
   "source": [
    "def list_files(base_path, predicate):\n",
    "    for folder, subs, files in os.walk(base_path):\n",
    "        for filename in files:\n",
    "            if predicate(os.path.join(folder, filename)):\n",
    "                yield (os.path.join(folder, filename))"
   ]
  },
  {
   "cell_type": "code",
   "execution_count": 3,
   "metadata": {
    "collapsed": true
   },
   "outputs": [],
   "source": [
    "def get_xy(path):\n",
    "    X = []\n",
    "    y = []\n",
    "    \n",
    "    featurizer = EmoIntFeaturizer()\n",
    "    tokenizer = TweetTokenizer()\n",
    "    \n",
    "    for f in list_files(path, lambda x: x.endswith('.txt')):\n",
    "        data = open(f).read()\n",
    "        \n",
    "        tokens = tokenizer.tokenize(data)\n",
    "        features = featurizer.featurize(tokens)\n",
    "        X.append(features)\n",
    "        \n",
    "        if os.path.dirname(f).endswith('pos'):\n",
    "            y.append(1)\n",
    "        else:\n",
    "            y.append(0)\n",
    "    \n",
    "    X = np.array(X)\n",
    "    y = np.array(y)\n",
    "    \n",
    "    # shuffle the data\n",
    "    np.random.seed(0)\n",
    "    idx = np.random.permutation(y.size)\n",
    "    X = X[idx]\n",
    "    y = y[idx]\n",
    "    \n",
    "    print(\"X shape: {}\".format(X.shape))\n",
    "    print(\"y shape: {}\".format(y.shape))\n",
    "    \n",
    "    return X, y, featurizer.features"
   ]
  },
  {
   "cell_type": "code",
   "execution_count": 4,
   "metadata": {},
   "outputs": [
    {
     "name": "stdout",
     "output_type": "stream",
     "text": [
      "X shape: (2000, 155)\n",
      "y shape: (2000,)\n"
     ]
    }
   ],
   "source": [
    "X, y, features = get_xy('/Users/venkatesh/Downloads/review_polarity/')\n",
    "X_train, X_test, y_train, y_test = train_test_split(X, y, test_size=0.2)"
   ]
  },
  {
   "cell_type": "code",
   "execution_count": 5,
   "metadata": {
    "collapsed": true
   },
   "outputs": [],
   "source": [
    "from sklearn.ensemble import AdaBoostClassifier\n",
    "from sklearn.metrics import accuracy_score\n",
    "\n",
    "def train(X_train, y_train, X_test, y_test):\n",
    "    clf = RandomForestClassifier()\n",
    "    clf.fit(X_train, y_train)\n",
    "    y_test_pred = clf.predict(X_test)\n",
    "    acc = accuracy_score(y_test_pred, y_test)\n",
    "    print(\"Accuracy: {}\".format(acc))\n",
    "    return clf\n",
    "\n",
    "def plot_fig(regr, labels, title):\n",
    "    indices = np.argsort(regr.feature_importances_)[-10:]\n",
    "    plt.barh(np.arange(len(indices)), regr.feature_importances_[indices])\n",
    "    plt.yticks(np.arange(len(indices)) + 0.25, np.array(labels)[indices])\n",
    "    plt.xlabel('Relative importance')\n",
    "    plt.title(title)"
   ]
  },
  {
   "cell_type": "code",
   "execution_count": 6,
   "metadata": {},
   "outputs": [
    {
     "name": "stdout",
     "output_type": "stream",
     "text": [
      "Accuracy: 0.7\n"
     ]
    },
    {
     "data": {
      "image/png": "[encoded data removed]",
      "text/plain": [
       "<matplotlib.figure.Figure at 0x10a057710>"
      ]
     },
     "metadata": {},
     "output_type": "display_data"
    }
   ],
   "source": [
    "regr = train(X_train, y_train, X_test, y_test)\n",
    "plot_fig(regr, features, \"Movie Review Analysis\")"
   ]
  },
  {
   "cell_type": "code",
   "execution_count": 7,
   "metadata": {
    "collapsed": true
   },
   "outputs": [],
   "source": [
    "def traincv(X, y, X_submission, y_submission, clfs, n_folds=10, shuffle=True):\n",
    "    np.random.seed(0)\n",
    "    if shuffle:\n",
    "        idx = np.random.permutation(y.size)\n",
    "        X = X[idx]\n",
    "        y = y[idx]\n",
    "        \n",
    "    skf = list(KFold(np.size(y), n_folds))\n",
    "\n",
    "    dataset_blend_train = np.zeros((X.shape[0], len(clfs)))\n",
    "    dataset_blend_test = np.zeros((X_submission.shape[0], len(clfs)))\n",
    "\n",
    "    for j, clf in enumerate(clfs):\n",
    "        dataset_blend_test_j = np.zeros((X_submission.shape[0], len(skf)))\n",
    "        for i, (train, test) in enumerate(skf):\n",
    "            X_train = X[train]\n",
    "            y_train = y[train]\n",
    "            X_test = X[test]\n",
    "            y_test = y[test]\n",
    "            \n",
    "            clf.fit(X_train, y_train)\n",
    "            y_test_pred = clf.predict(X_test)\n",
    "            \n",
    "            dataset_blend_train[test, j] = y_test_pred\n",
    "            dataset_blend_test_j[:, i] = clf.predict(X_submission)\n",
    "            \n",
    "        dataset_blend_test[:, j] = dataset_blend_test_j.mean(1)\n",
    "\n",
    "    clf = LogisticRegression()\n",
    "    clf.fit(dataset_blend_train, y)\n",
    "    y_submission_pred = clf.predict(dataset_blend_test)\n",
    "    \n",
    "    acc = accuracy_score(y_submission_pred, y_submission)\n",
    "    print(\"Accuracy: {}\".format(acc))"
   ]
  },
  {
   "cell_type": "code",
   "execution_count": 8,
   "metadata": {},
   "outputs": [
    {
     "name": "stdout",
     "output_type": "stream",
     "text": [
      "Accuracy: 0.7425\n"
     ]
    }
   ],
   "source": [
    "clfs = [RandomForestClassifier(), ExtraTreesClassifier(),\n",
    "        BaggingClassifier(), GradientBoostingClassifier()]\n",
    "traincv(X_train, y_train, X_test, y_test, clfs)"
   ]
  }
 ],
 "metadata": {
  "kernelspec": {
   "display_name": "Python Tensorflow",
   "language": "python",
   "name": "tensorflow"
  },
  "language_info": {
   "codemirror_mode": {
    "name": "ipython",
    "version": 2.0
   },
   "file_extension": ".py",
   "mimetype": "text/x-python",
   "name": "python",
   "nbconvert_exporter": "python",
   "pygments_lexer": "ipython2",
   "version": "2.7.12"
  }
 },
 "nbformat": 4,
 "nbformat_minor": 0
}